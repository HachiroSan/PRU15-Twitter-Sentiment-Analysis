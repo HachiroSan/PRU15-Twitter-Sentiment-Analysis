{
  "cells": [
    {
      "cell_type": "markdown",
      "id": "b8bac84f",
      "metadata": {
        "id": "b8bac84f"
      },
      "source": [
        "Preprocessing Data for Sentiment Analysis (Netizen) <br>\n",
        "Prepared by Fad"
      ]
    },
    {
      "cell_type": "markdown",
      "id": "9d4955c1",
      "metadata": {
        "id": "9d4955c1"
      },
      "source": [
        "We will check if a GPU is available for us. We use TensorFlow GPU to achieve the fastest possible time when applying deep learning models, which is done by using a CUDA-enabled GPU, like RTX 3060 Ti in our case."
      ]
    },
    {
      "cell_type": "code",
      "execution_count": null,
      "id": "75b74af2",
      "metadata": {
        "id": "75b74af2",
        "outputId": "3a1b9007-4189-4f0e-b0f4-9210b7c11a38"
      },
      "outputs": [
        {
          "data": {
            "text/plain": [
              "[name: \"/device:CPU:0\"\n",
              " device_type: \"CPU\"\n",
              " memory_limit: 268435456\n",
              " locality {\n",
              " }\n",
              " incarnation: 11704794323389237671\n",
              " xla_global_id: -1,\n",
              " name: \"/device:GPU:0\"\n",
              " device_type: \"GPU\"\n",
              " memory_limit: 5748293632\n",
              " locality {\n",
              "   bus_id: 1\n",
              "   links {\n",
              "   }\n",
              " }\n",
              " incarnation: 13922877276532335009\n",
              " physical_device_desc: \"device: 0, name: NVIDIA GeForce RTX 3060 Ti, pci bus id: 0000:09:00.0, compute capability: 8.6\"\n",
              " xla_global_id: 416903419]"
            ]
          },
          "execution_count": 1,
          "metadata": {},
          "output_type": "execute_result"
        }
      ],
      "source": [
        "import tensorflow as tf\n",
        "from tensorflow.python.client import device_lib\n",
        "\n",
        "tf.debugging.set_log_device_placement(True)\n",
        "device_lib.list_local_devices()"
      ]
    },
    {
      "cell_type": "code",
      "execution_count": null,
      "id": "7732e642",
      "metadata": {
        "scrolled": true,
        "id": "7732e642"
      },
      "outputs": [],
      "source": [
        "import pandas as pd\n",
        "\n",
        "# read the csv file\n",
        "df = pd.read_csv(\"Netizen_Raw.csv\", low_memory=False)"
      ]
    },
    {
      "cell_type": "code",
      "execution_count": null,
      "id": "03bc66a2",
      "metadata": {
        "id": "03bc66a2"
      },
      "outputs": [],
      "source": [
        "# Get columns that are interesting\n",
        "df = df[['date', 'time', 'name', 'tweet', 'likes_count', 'retweets_count', 'mentions', 'hashtags', 'replies_count']]"
      ]
    },
    {
      "cell_type": "code",
      "execution_count": null,
      "id": "a8fc4669",
      "metadata": {
        "id": "a8fc4669"
      },
      "outputs": [],
      "source": [
        "df = df.dropna()"
      ]
    },
    {
      "cell_type": "markdown",
      "id": "70b9ed3b",
      "metadata": {
        "id": "70b9ed3b"
      },
      "source": [
        "### Remove mentions"
      ]
    },
    {
      "cell_type": "code",
      "execution_count": null,
      "id": "bf483711",
      "metadata": {
        "id": "bf483711",
        "outputId": "36c87b55-b118-47ba-b634-196b37df3a51"
      },
      "outputs": [
        {
          "name": "stdout",
          "output_type": "stream",
          "text": [
            "CPU times: total: 1.05 s\n",
            "Wall time: 1.05 s\n"
          ]
        }
      ],
      "source": [
        "%%time\n",
        "import re\n",
        "\n",
        "# define a function to remove mentions and links\n",
        "def remove_mentions_links(text):\n",
        "    try:\n",
        "        text = re.sub(r'@\\w+', '', text) # remove mentions\n",
        "        text = re.sub(r'http\\S+', '', text) # remove links\n",
        "        return text\n",
        "    except:\n",
        "        return \"\"\n",
        "\n",
        "# apply the function to the tweet text column\n",
        "df[\"tweet_processed\"] = df[\"tweet\"].apply(remove_mentions_links,)"
      ]
    },
    {
      "cell_type": "code",
      "execution_count": null,
      "id": "4a1e458d",
      "metadata": {
        "id": "4a1e458d",
        "outputId": "e1ffb27e-746b-43c4-fe27-8a3bd787faac"
      },
      "outputs": [
        {
          "data": {
            "text/html": [
              "<div>\n",
              "<style scoped>\n",
              "    .dataframe tbody tr th:only-of-type {\n",
              "        vertical-align: middle;\n",
              "    }\n",
              "\n",
              "    .dataframe tbody tr th {\n",
              "        vertical-align: top;\n",
              "    }\n",
              "\n",
              "    .dataframe thead th {\n",
              "        text-align: right;\n",
              "    }\n",
              "</style>\n",
              "<table border=\"1\" class=\"dataframe\">\n",
              "  <thead>\n",
              "    <tr style=\"text-align: right;\">\n",
              "      <th></th>\n",
              "      <th>date</th>\n",
              "      <th>time</th>\n",
              "      <th>name</th>\n",
              "      <th>tweet</th>\n",
              "      <th>likes_count</th>\n",
              "      <th>retweets_count</th>\n",
              "      <th>mentions</th>\n",
              "      <th>hashtags</th>\n",
              "      <th>replies_count</th>\n",
              "      <th>tweet_processed</th>\n",
              "    </tr>\n",
              "  </thead>\n",
              "  <tbody>\n",
              "    <tr>\n",
              "      <th>0</th>\n",
              "      <td>2022-11-29</td>\n",
              "      <td>23:39:57</td>\n",
              "      <td>WaWan</td>\n",
              "      <td>@fahmi_fadzil Kemon YB jgn jd sengal.. dulu ka...</td>\n",
              "      <td>0</td>\n",
              "      <td>0</td>\n",
              "      <td>['fahmi_fadzil']</td>\n",
              "      <td>['kerajaanpintubelakang']</td>\n",
              "      <td>0</td>\n",
              "      <td>Kemon YB jgn jd sengal.. dulu kala laungan #k...</td>\n",
              "    </tr>\n",
              "    <tr>\n",
              "      <th>1</th>\n",
              "      <td>2022-11-29</td>\n",
              "      <td>22:33:07</td>\n",
              "      <td>M🔺l🔺y🔺 Tanahairku 🇲🇾</td>\n",
              "      <td>I hope it’s not si ponorogo @presidenumnomy #z...</td>\n",
              "      <td>1</td>\n",
              "      <td>0</td>\n",
              "      <td>['presidenumnomy']</td>\n",
              "      <td>['zahidhamidiletakjawatan', 'umno', 'barisanna...</td>\n",
              "      <td>0</td>\n",
              "      <td>I hope it’s not si ponorogo  #zahidhamidiletak...</td>\n",
              "    </tr>\n",
              "    <tr>\n",
              "      <th>2</th>\n",
              "      <td>2022-11-29</td>\n",
              "      <td>20:50:34</td>\n",
              "      <td>RameshRaoAKS******</td>\n",
              "      <td>Kencing Dan puak Ularmark @DPPMalaysia @titm_o...</td>\n",
              "      <td>20</td>\n",
              "      <td>8</td>\n",
              "      <td>['dppmalaysia', 'titm_official', 'abdulhadiawa...</td>\n",
              "      <td>['pakatanharapan', 'barisannasional', 'anwarib...</td>\n",
              "      <td>4</td>\n",
              "      <td>Kencing Dan puak Ularmark    berpisah Tiada!!\\...</td>\n",
              "    </tr>\n",
              "    <tr>\n",
              "      <th>3</th>\n",
              "      <td>2022-11-29</td>\n",
              "      <td>19:28:40</td>\n",
              "      <td>RameshRaoAKS******</td>\n",
              "      <td>Jika Kamu Sering Dimainkan,\\nJika Kamu Sering ...</td>\n",
              "      <td>8</td>\n",
              "      <td>3</td>\n",
              "      <td>['najibrazak', 'drzahidhamidi']</td>\n",
              "      <td>['anwaribrahim', 'anwaribrahimpm10', 'bossku',...</td>\n",
              "      <td>2</td>\n",
              "      <td>Jika Kamu Sering Dimainkan,\\nJika Kamu Sering ...</td>\n",
              "    </tr>\n",
              "    <tr>\n",
              "      <th>4</th>\n",
              "      <td>2022-11-29</td>\n",
              "      <td>18:59:19</td>\n",
              "      <td>New Straits Times</td>\n",
              "      <td>#NSTTV Working with Pakatan Harapan (#PH) and ...</td>\n",
              "      <td>2</td>\n",
              "      <td>2</td>\n",
              "      <td>[]</td>\n",
              "      <td>['nsttv', 'ph', 'barisannasional', 'umno']</td>\n",
              "      <td>1</td>\n",
              "      <td>#NSTTV Working with Pakatan Harapan (#PH) and ...</td>\n",
              "    </tr>\n",
              "  </tbody>\n",
              "</table>\n",
              "</div>"
            ],
            "text/plain": [
              "         date      time                  name  \\\n",
              "0  2022-11-29  23:39:57                 WaWan   \n",
              "1  2022-11-29  22:33:07  M🔺l🔺y🔺 Tanahairku 🇲🇾   \n",
              "2  2022-11-29  20:50:34    RameshRaoAKS******   \n",
              "3  2022-11-29  19:28:40    RameshRaoAKS******   \n",
              "4  2022-11-29  18:59:19     New Straits Times   \n",
              "\n",
              "                                               tweet  likes_count  \\\n",
              "0  @fahmi_fadzil Kemon YB jgn jd sengal.. dulu ka...            0   \n",
              "1  I hope it’s not si ponorogo @presidenumnomy #z...            1   \n",
              "2  Kencing Dan puak Ularmark @DPPMalaysia @titm_o...           20   \n",
              "3  Jika Kamu Sering Dimainkan,\\nJika Kamu Sering ...            8   \n",
              "4  #NSTTV Working with Pakatan Harapan (#PH) and ...            2   \n",
              "\n",
              "   retweets_count                                           mentions  \\\n",
              "0               0                                   ['fahmi_fadzil']   \n",
              "1               0                                 ['presidenumnomy']   \n",
              "2               8  ['dppmalaysia', 'titm_official', 'abdulhadiawa...   \n",
              "3               3                    ['najibrazak', 'drzahidhamidi']   \n",
              "4               2                                                 []   \n",
              "\n",
              "                                            hashtags  replies_count  \\\n",
              "0                          ['kerajaanpintubelakang']              0   \n",
              "1  ['zahidhamidiletakjawatan', 'umno', 'barisanna...              0   \n",
              "2  ['pakatanharapan', 'barisannasional', 'anwarib...              4   \n",
              "3  ['anwaribrahim', 'anwaribrahimpm10', 'bossku',...              2   \n",
              "4         ['nsttv', 'ph', 'barisannasional', 'umno']              1   \n",
              "\n",
              "                                     tweet_processed  \n",
              "0   Kemon YB jgn jd sengal.. dulu kala laungan #k...  \n",
              "1  I hope it’s not si ponorogo  #zahidhamidiletak...  \n",
              "2  Kencing Dan puak Ularmark    berpisah Tiada!!\\...  \n",
              "3  Jika Kamu Sering Dimainkan,\\nJika Kamu Sering ...  \n",
              "4  #NSTTV Working with Pakatan Harapan (#PH) and ...  "
            ]
          },
          "execution_count": 6,
          "metadata": {},
          "output_type": "execute_result"
        }
      ],
      "source": [
        "df.head()"
      ]
    },
    {
      "cell_type": "markdown",
      "id": "e36b65d3",
      "metadata": {
        "id": "e36b65d3"
      },
      "source": [
        "### Load our Malaya sentiment model"
      ]
    },
    {
      "cell_type": "code",
      "execution_count": null,
      "id": "b5d87253",
      "metadata": {
        "id": "b5d87253",
        "outputId": "cc0d648e-d143-4615-fad2-11f4ee3446dc"
      },
      "outputs": [
        {
          "name": "stderr",
          "output_type": "stream",
          "text": [
            "C:\\Users\\snapt\\anaconda3\\envs\\Tensorflow-GPU\\lib\\site-packages\\malaya_boilerplate\\frozen_graph.py:35: UserWarning: Cannot import beam_search_ops from Tensorflow Addons, ['malaya.jawi_rumi.deep_model', 'malaya.phoneme.deep_model', 'malaya.rumi_jawi.deep_model', 'malaya.stem.deep_model'] will not available to use, make sure Tensorflow Addons version >= 0.12.0\n",
            "  warnings.warn(\n",
            "C:\\Users\\snapt\\anaconda3\\envs\\Tensorflow-GPU\\lib\\site-packages\\malaya_boilerplate\\frozen_graph.py:38: UserWarning: check compatible Tensorflow version with Tensorflow Addons at https://github.com/tensorflow/addons/releases\n",
            "  warnings.warn(\n",
            "C:\\Users\\snapt\\anaconda3\\envs\\Tensorflow-GPU\\lib\\site-packages\\tqdm\\auto.py:22: TqdmWarning: IProgress not found. Please update jupyter and ipywidgets. See https://ipywidgets.readthedocs.io/en/stable/user_install.html\n",
            "  from .autonotebook import tqdm as notebook_tqdm\n"
          ]
        },
        {
          "data": {
            "text/html": [
              "<div>\n",
              "<style scoped>\n",
              "    .dataframe tbody tr th:only-of-type {\n",
              "        vertical-align: middle;\n",
              "    }\n",
              "\n",
              "    .dataframe tbody tr th {\n",
              "        vertical-align: top;\n",
              "    }\n",
              "\n",
              "    .dataframe thead th {\n",
              "        text-align: right;\n",
              "    }\n",
              "</style>\n",
              "<table border=\"1\" class=\"dataframe\">\n",
              "  <thead>\n",
              "    <tr style=\"text-align: right;\">\n",
              "      <th></th>\n",
              "      <th>Size (MB)</th>\n",
              "      <th>Quantized Size (MB)</th>\n",
              "      <th>macro precision</th>\n",
              "      <th>macro recall</th>\n",
              "      <th>macro f1-score</th>\n",
              "    </tr>\n",
              "  </thead>\n",
              "  <tbody>\n",
              "    <tr>\n",
              "      <th>bert</th>\n",
              "      <td>425.6</td>\n",
              "      <td>111.00</td>\n",
              "      <td>0.93182</td>\n",
              "      <td>0.93442</td>\n",
              "      <td>0.93307</td>\n",
              "    </tr>\n",
              "    <tr>\n",
              "      <th>tiny-bert</th>\n",
              "      <td>57.4</td>\n",
              "      <td>15.40</td>\n",
              "      <td>0.93390</td>\n",
              "      <td>0.93141</td>\n",
              "      <td>0.93262</td>\n",
              "    </tr>\n",
              "    <tr>\n",
              "      <th>albert</th>\n",
              "      <td>48.6</td>\n",
              "      <td>12.80</td>\n",
              "      <td>0.91228</td>\n",
              "      <td>0.91929</td>\n",
              "      <td>0.91540</td>\n",
              "    </tr>\n",
              "    <tr>\n",
              "      <th>tiny-albert</th>\n",
              "      <td>22.4</td>\n",
              "      <td>5.98</td>\n",
              "      <td>0.91442</td>\n",
              "      <td>0.91646</td>\n",
              "      <td>0.91521</td>\n",
              "    </tr>\n",
              "    <tr>\n",
              "      <th>xlnet</th>\n",
              "      <td>446.6</td>\n",
              "      <td>118.00</td>\n",
              "      <td>0.92390</td>\n",
              "      <td>0.92629</td>\n",
              "      <td>0.92444</td>\n",
              "    </tr>\n",
              "    <tr>\n",
              "      <th>alxlnet</th>\n",
              "      <td>46.8</td>\n",
              "      <td>13.30</td>\n",
              "      <td>0.91896</td>\n",
              "      <td>0.92589</td>\n",
              "      <td>0.92198</td>\n",
              "    </tr>\n",
              "  </tbody>\n",
              "</table>\n",
              "</div>"
            ],
            "text/plain": [
              "             Size (MB)  Quantized Size (MB)  macro precision  macro recall  \\\n",
              "bert             425.6               111.00          0.93182       0.93442   \n",
              "tiny-bert         57.4                15.40          0.93390       0.93141   \n",
              "albert            48.6                12.80          0.91228       0.91929   \n",
              "tiny-albert       22.4                 5.98          0.91442       0.91646   \n",
              "xlnet            446.6               118.00          0.92390       0.92629   \n",
              "alxlnet           46.8                13.30          0.91896       0.92589   \n",
              "\n",
              "             macro f1-score  \n",
              "bert                0.93307  \n",
              "tiny-bert           0.93262  \n",
              "albert              0.91540  \n",
              "tiny-albert         0.91521  \n",
              "xlnet               0.92444  \n",
              "alxlnet             0.92198  "
            ]
          },
          "execution_count": 8,
          "metadata": {},
          "output_type": "execute_result"
        }
      ],
      "source": [
        "import malaya\n",
        "\n",
        "# view available transformer\n",
        "malaya.sentiment.available_transformer()"
      ]
    },
    {
      "cell_type": "markdown",
      "id": "3e757408",
      "metadata": {
        "id": "3e757408"
      },
      "source": [
        "We use BERT because it offers the highest accuracy. If you prefer a smaller size with slightly lower accuracy, we also have Tiny-BERT as an option."
      ]
    },
    {
      "cell_type": "code",
      "execution_count": null,
      "id": "bba1943b",
      "metadata": {
        "id": "bba1943b",
        "outputId": "06efcf3c-f2fd-4668-b6c7-02b9e8b35af9"
      },
      "outputs": [
        {
          "name": "stderr",
          "output_type": "stream",
          "text": [
            "Load quantized model will cause accuracy drop.\n",
            "Downloading: 100%|██████████| 15.1M/15.1M [00:03<00:00, 4.22MB/s]\n"
          ]
        }
      ],
      "source": [
        "model = malaya.sentiment.transformer(model = 'tiny-bert', quantized = True)"
      ]
    },
    {
      "cell_type": "code",
      "execution_count": null,
      "id": "073f5244",
      "metadata": {
        "id": "073f5244"
      },
      "outputs": [],
      "source": [
        "# Create function for prediction\n",
        "def predict_tweet(string):\n",
        "    return model.predict([string])[0]"
      ]
    },
    {
      "cell_type": "code",
      "execution_count": null,
      "id": "0e67804f",
      "metadata": {
        "id": "0e67804f",
        "outputId": "0f19e6c7-7878-4174-f793-26b9766fa6b9"
      },
      "outputs": [
        {
          "name": "stdout",
          "output_type": "stream",
          "text": [
            "CPU times: total: 6h 43min 50s\n",
            "Wall time: 1h 33min 59s\n"
          ]
        }
      ],
      "source": [
        "%%time\n",
        "\n",
        "# Apply the function to the 'tweet_processed' column and store the results in a new column 'prediction'\n",
        "df['prediction'] = df['tweet_processed'].apply(predict_tweet)"
      ]
    },
    {
      "cell_type": "code",
      "execution_count": null,
      "id": "8692ad16",
      "metadata": {
        "id": "8692ad16",
        "outputId": "6d960239-17f6-4ebf-ca62-c2d50fcfedcd"
      },
      "outputs": [
        {
          "data": {
            "text/html": [
              "<div>\n",
              "<style scoped>\n",
              "    .dataframe tbody tr th:only-of-type {\n",
              "        vertical-align: middle;\n",
              "    }\n",
              "\n",
              "    .dataframe tbody tr th {\n",
              "        vertical-align: top;\n",
              "    }\n",
              "\n",
              "    .dataframe thead th {\n",
              "        text-align: right;\n",
              "    }\n",
              "</style>\n",
              "<table border=\"1\" class=\"dataframe\">\n",
              "  <thead>\n",
              "    <tr style=\"text-align: right;\">\n",
              "      <th></th>\n",
              "      <th>date</th>\n",
              "      <th>time</th>\n",
              "      <th>name</th>\n",
              "      <th>tweet</th>\n",
              "      <th>likes_count</th>\n",
              "      <th>retweets_count</th>\n",
              "      <th>mentions</th>\n",
              "      <th>hashtags</th>\n",
              "      <th>replies_count</th>\n",
              "      <th>tweet_processed</th>\n",
              "      <th>prediction</th>\n",
              "    </tr>\n",
              "  </thead>\n",
              "  <tbody>\n",
              "    <tr>\n",
              "      <th>0</th>\n",
              "      <td>2022-11-29</td>\n",
              "      <td>23:39:57</td>\n",
              "      <td>WaWan</td>\n",
              "      <td>@fahmi_fadzil Kemon YB jgn jd sengal.. dulu ka...</td>\n",
              "      <td>0</td>\n",
              "      <td>0</td>\n",
              "      <td>['fahmi_fadzil']</td>\n",
              "      <td>['kerajaanpintubelakang']</td>\n",
              "      <td>0</td>\n",
              "      <td>Kemon YB jgn jd sengal.. dulu kala laungan #k...</td>\n",
              "      <td>negative</td>\n",
              "    </tr>\n",
              "    <tr>\n",
              "      <th>1</th>\n",
              "      <td>2022-11-29</td>\n",
              "      <td>22:33:07</td>\n",
              "      <td>M🔺l🔺y🔺 Tanahairku 🇲🇾</td>\n",
              "      <td>I hope it’s not si ponorogo @presidenumnomy #z...</td>\n",
              "      <td>1</td>\n",
              "      <td>0</td>\n",
              "      <td>['presidenumnomy']</td>\n",
              "      <td>['zahidhamidiletakjawatan', 'umno', 'barisanna...</td>\n",
              "      <td>0</td>\n",
              "      <td>I hope it’s not si ponorogo  #zahidhamidiletak...</td>\n",
              "      <td>negative</td>\n",
              "    </tr>\n",
              "    <tr>\n",
              "      <th>2</th>\n",
              "      <td>2022-11-29</td>\n",
              "      <td>20:50:34</td>\n",
              "      <td>RameshRaoAKS******</td>\n",
              "      <td>Kencing Dan puak Ularmark @DPPMalaysia @titm_o...</td>\n",
              "      <td>20</td>\n",
              "      <td>8</td>\n",
              "      <td>['dppmalaysia', 'titm_official', 'abdulhadiawa...</td>\n",
              "      <td>['pakatanharapan', 'barisannasional', 'anwarib...</td>\n",
              "      <td>4</td>\n",
              "      <td>Kencing Dan puak Ularmark    berpisah Tiada!!\\...</td>\n",
              "      <td>negative</td>\n",
              "    </tr>\n",
              "    <tr>\n",
              "      <th>3</th>\n",
              "      <td>2022-11-29</td>\n",
              "      <td>19:28:40</td>\n",
              "      <td>RameshRaoAKS******</td>\n",
              "      <td>Jika Kamu Sering Dimainkan,\\nJika Kamu Sering ...</td>\n",
              "      <td>8</td>\n",
              "      <td>3</td>\n",
              "      <td>['najibrazak', 'drzahidhamidi']</td>\n",
              "      <td>['anwaribrahim', 'anwaribrahimpm10', 'bossku',...</td>\n",
              "      <td>2</td>\n",
              "      <td>Jika Kamu Sering Dimainkan,\\nJika Kamu Sering ...</td>\n",
              "      <td>positive</td>\n",
              "    </tr>\n",
              "    <tr>\n",
              "      <th>4</th>\n",
              "      <td>2022-11-29</td>\n",
              "      <td>18:59:19</td>\n",
              "      <td>New Straits Times</td>\n",
              "      <td>#NSTTV Working with Pakatan Harapan (#PH) and ...</td>\n",
              "      <td>2</td>\n",
              "      <td>2</td>\n",
              "      <td>[]</td>\n",
              "      <td>['nsttv', 'ph', 'barisannasional', 'umno']</td>\n",
              "      <td>1</td>\n",
              "      <td>#NSTTV Working with Pakatan Harapan (#PH) and ...</td>\n",
              "      <td>negative</td>\n",
              "    </tr>\n",
              "    <tr>\n",
              "      <th>5</th>\n",
              "      <td>2022-11-29</td>\n",
              "      <td>17:14:53</td>\n",
              "      <td>Cik Asmaliah</td>\n",
              "      <td>@BilliBear3 @malaysiakini barisan nasional is ...</td>\n",
              "      <td>0</td>\n",
              "      <td>0</td>\n",
              "      <td>['billibear3', 'malaysiakini']</td>\n",
              "      <td>[]</td>\n",
              "      <td>0</td>\n",
              "      <td>barisan nasional is a scammer party. !</td>\n",
              "      <td>negative</td>\n",
              "    </tr>\n",
              "    <tr>\n",
              "      <th>6</th>\n",
              "      <td>2022-11-29</td>\n",
              "      <td>16:54:40</td>\n",
              "      <td>Amirὒl 🇲🇾</td>\n",
              "      <td>Rindu kerajaan barisan nasional</td>\n",
              "      <td>0</td>\n",
              "      <td>0</td>\n",
              "      <td>[]</td>\n",
              "      <td>[]</td>\n",
              "      <td>0</td>\n",
              "      <td>Rindu kerajaan barisan nasional</td>\n",
              "      <td>negative</td>\n",
              "    </tr>\n",
              "    <tr>\n",
              "      <th>7</th>\n",
              "      <td>2022-11-29</td>\n",
              "      <td>15:12:24</td>\n",
              "      <td>Sukma</td>\n",
              "      <td>Sama je. PH-DAP, PN-PAS, UMNO-Barisan Nasional.</td>\n",
              "      <td>0</td>\n",
              "      <td>0</td>\n",
              "      <td>[]</td>\n",
              "      <td>[]</td>\n",
              "      <td>0</td>\n",
              "      <td>Sama je. PH-DAP, PN-PAS, UMNO-Barisan Nasional.</td>\n",
              "      <td>negative</td>\n",
              "    </tr>\n",
              "    <tr>\n",
              "      <th>8</th>\n",
              "      <td>2022-11-29</td>\n",
              "      <td>15:09:14</td>\n",
              "      <td>🇲🇾Astro AWANI🇲🇾</td>\n",
              "      <td>Amanah has decided to give way to the Barisan ...</td>\n",
              "      <td>30</td>\n",
              "      <td>14</td>\n",
              "      <td>[]</td>\n",
              "      <td>['awanitonight']</td>\n",
              "      <td>1</td>\n",
              "      <td>Amanah has decided to give way to the Barisan ...</td>\n",
              "      <td>negative</td>\n",
              "    </tr>\n",
              "    <tr>\n",
              "      <th>9</th>\n",
              "      <td>2022-11-29</td>\n",
              "      <td>15:03:58</td>\n",
              "      <td>BFM News</td>\n",
              "      <td>1. The name of Pakatan Harapan candidate Fadzl...</td>\n",
              "      <td>38</td>\n",
              "      <td>8</td>\n",
              "      <td>[]</td>\n",
              "      <td>[]</td>\n",
              "      <td>2</td>\n",
              "      <td>1. The name of Pakatan Harapan candidate Fadzl...</td>\n",
              "      <td>negative</td>\n",
              "    </tr>\n",
              "  </tbody>\n",
              "</table>\n",
              "</div>"
            ],
            "text/plain": [
              "         date      time                  name  \\\n",
              "0  2022-11-29  23:39:57                 WaWan   \n",
              "1  2022-11-29  22:33:07  M🔺l🔺y🔺 Tanahairku 🇲🇾   \n",
              "2  2022-11-29  20:50:34    RameshRaoAKS******   \n",
              "3  2022-11-29  19:28:40    RameshRaoAKS******   \n",
              "4  2022-11-29  18:59:19     New Straits Times   \n",
              "5  2022-11-29  17:14:53          Cik Asmaliah   \n",
              "6  2022-11-29  16:54:40             Amirὒl 🇲🇾   \n",
              "7  2022-11-29  15:12:24                 Sukma   \n",
              "8  2022-11-29  15:09:14       🇲🇾Astro AWANI🇲🇾   \n",
              "9  2022-11-29  15:03:58              BFM News   \n",
              "\n",
              "                                               tweet  likes_count  \\\n",
              "0  @fahmi_fadzil Kemon YB jgn jd sengal.. dulu ka...            0   \n",
              "1  I hope it’s not si ponorogo @presidenumnomy #z...            1   \n",
              "2  Kencing Dan puak Ularmark @DPPMalaysia @titm_o...           20   \n",
              "3  Jika Kamu Sering Dimainkan,\\nJika Kamu Sering ...            8   \n",
              "4  #NSTTV Working with Pakatan Harapan (#PH) and ...            2   \n",
              "5  @BilliBear3 @malaysiakini barisan nasional is ...            0   \n",
              "6                    Rindu kerajaan barisan nasional            0   \n",
              "7    Sama je. PH-DAP, PN-PAS, UMNO-Barisan Nasional.            0   \n",
              "8  Amanah has decided to give way to the Barisan ...           30   \n",
              "9  1. The name of Pakatan Harapan candidate Fadzl...           38   \n",
              "\n",
              "   retweets_count                                           mentions  \\\n",
              "0               0                                   ['fahmi_fadzil']   \n",
              "1               0                                 ['presidenumnomy']   \n",
              "2               8  ['dppmalaysia', 'titm_official', 'abdulhadiawa...   \n",
              "3               3                    ['najibrazak', 'drzahidhamidi']   \n",
              "4               2                                                 []   \n",
              "5               0                     ['billibear3', 'malaysiakini']   \n",
              "6               0                                                 []   \n",
              "7               0                                                 []   \n",
              "8              14                                                 []   \n",
              "9               8                                                 []   \n",
              "\n",
              "                                            hashtags  replies_count  \\\n",
              "0                          ['kerajaanpintubelakang']              0   \n",
              "1  ['zahidhamidiletakjawatan', 'umno', 'barisanna...              0   \n",
              "2  ['pakatanharapan', 'barisannasional', 'anwarib...              4   \n",
              "3  ['anwaribrahim', 'anwaribrahimpm10', 'bossku',...              2   \n",
              "4         ['nsttv', 'ph', 'barisannasional', 'umno']              1   \n",
              "5                                                 []              0   \n",
              "6                                                 []              0   \n",
              "7                                                 []              0   \n",
              "8                                   ['awanitonight']              1   \n",
              "9                                                 []              2   \n",
              "\n",
              "                                     tweet_processed prediction  \n",
              "0   Kemon YB jgn jd sengal.. dulu kala laungan #k...   negative  \n",
              "1  I hope it’s not si ponorogo  #zahidhamidiletak...   negative  \n",
              "2  Kencing Dan puak Ularmark    berpisah Tiada!!\\...   negative  \n",
              "3  Jika Kamu Sering Dimainkan,\\nJika Kamu Sering ...   positive  \n",
              "4  #NSTTV Working with Pakatan Harapan (#PH) and ...   negative  \n",
              "5            barisan nasional is a scammer party. !    negative  \n",
              "6                    Rindu kerajaan barisan nasional   negative  \n",
              "7    Sama je. PH-DAP, PN-PAS, UMNO-Barisan Nasional.   negative  \n",
              "8  Amanah has decided to give way to the Barisan ...   negative  \n",
              "9  1. The name of Pakatan Harapan candidate Fadzl...   negative  "
            ]
          },
          "execution_count": 12,
          "metadata": {},
          "output_type": "execute_result"
        }
      ],
      "source": [
        "df.head(10)"
      ]
    },
    {
      "cell_type": "markdown",
      "id": "b5214376",
      "metadata": {
        "id": "b5214376"
      },
      "source": [
        "Sort our columns and remove unnecessary columns"
      ]
    },
    {
      "cell_type": "code",
      "execution_count": null,
      "id": "9603323f",
      "metadata": {
        "id": "9603323f"
      },
      "outputs": [],
      "source": [
        "df = df.reindex(columns=['date','time','name','tweet','likes_count','retweets_count','mentions','hashtags','replies_count','prediction'])"
      ]
    },
    {
      "cell_type": "markdown",
      "id": "00f5ffd2",
      "metadata": {
        "id": "00f5ffd2"
      },
      "source": [
        "Export our clean data"
      ]
    },
    {
      "cell_type": "code",
      "execution_count": null,
      "id": "55b923bf",
      "metadata": {
        "id": "55b923bf"
      },
      "outputs": [],
      "source": [
        "df.to_csv('Netizen_Labeled.csv', index=False, encoding='utf-8-sig')"
      ]
    },
    {
      "cell_type": "code",
      "execution_count": null,
      "id": "3bf465fd",
      "metadata": {
        "id": "3bf465fd",
        "outputId": "5fc87351-e083-4ab0-ccc8-06b9ffb21876"
      },
      "outputs": [
        {
          "data": {
            "text/html": [
              "<div>\n",
              "<style scoped>\n",
              "    .dataframe tbody tr th:only-of-type {\n",
              "        vertical-align: middle;\n",
              "    }\n",
              "\n",
              "    .dataframe tbody tr th {\n",
              "        vertical-align: top;\n",
              "    }\n",
              "\n",
              "    .dataframe thead th {\n",
              "        text-align: right;\n",
              "    }\n",
              "</style>\n",
              "<table border=\"1\" class=\"dataframe\">\n",
              "  <thead>\n",
              "    <tr style=\"text-align: right;\">\n",
              "      <th></th>\n",
              "      <th>date</th>\n",
              "      <th>time</th>\n",
              "      <th>name</th>\n",
              "      <th>tweet</th>\n",
              "      <th>likes_count</th>\n",
              "      <th>retweets_count</th>\n",
              "      <th>mentions</th>\n",
              "      <th>hashtags</th>\n",
              "      <th>replies_count</th>\n",
              "      <th>prediction</th>\n",
              "    </tr>\n",
              "  </thead>\n",
              "  <tbody>\n",
              "    <tr>\n",
              "      <th>0</th>\n",
              "      <td>2022-11-29</td>\n",
              "      <td>23:39:57</td>\n",
              "      <td>WaWan</td>\n",
              "      <td>@fahmi_fadzil Kemon YB jgn jd sengal.. dulu ka...</td>\n",
              "      <td>0</td>\n",
              "      <td>0</td>\n",
              "      <td>['fahmi_fadzil']</td>\n",
              "      <td>['kerajaanpintubelakang']</td>\n",
              "      <td>0</td>\n",
              "      <td>negative</td>\n",
              "    </tr>\n",
              "    <tr>\n",
              "      <th>1</th>\n",
              "      <td>2022-11-29</td>\n",
              "      <td>22:33:07</td>\n",
              "      <td>M🔺l🔺y🔺 Tanahairku 🇲🇾</td>\n",
              "      <td>I hope it’s not si ponorogo @presidenumnomy #z...</td>\n",
              "      <td>1</td>\n",
              "      <td>0</td>\n",
              "      <td>['presidenumnomy']</td>\n",
              "      <td>['zahidhamidiletakjawatan', 'umno', 'barisanna...</td>\n",
              "      <td>0</td>\n",
              "      <td>negative</td>\n",
              "    </tr>\n",
              "    <tr>\n",
              "      <th>2</th>\n",
              "      <td>2022-11-29</td>\n",
              "      <td>20:50:34</td>\n",
              "      <td>RameshRaoAKS******</td>\n",
              "      <td>Kencing Dan puak Ularmark @DPPMalaysia @titm_o...</td>\n",
              "      <td>20</td>\n",
              "      <td>8</td>\n",
              "      <td>['dppmalaysia', 'titm_official', 'abdulhadiawa...</td>\n",
              "      <td>['pakatanharapan', 'barisannasional', 'anwarib...</td>\n",
              "      <td>4</td>\n",
              "      <td>negative</td>\n",
              "    </tr>\n",
              "    <tr>\n",
              "      <th>3</th>\n",
              "      <td>2022-11-29</td>\n",
              "      <td>19:28:40</td>\n",
              "      <td>RameshRaoAKS******</td>\n",
              "      <td>Jika Kamu Sering Dimainkan,\\nJika Kamu Sering ...</td>\n",
              "      <td>8</td>\n",
              "      <td>3</td>\n",
              "      <td>['najibrazak', 'drzahidhamidi']</td>\n",
              "      <td>['anwaribrahim', 'anwaribrahimpm10', 'bossku',...</td>\n",
              "      <td>2</td>\n",
              "      <td>positive</td>\n",
              "    </tr>\n",
              "    <tr>\n",
              "      <th>4</th>\n",
              "      <td>2022-11-29</td>\n",
              "      <td>18:59:19</td>\n",
              "      <td>New Straits Times</td>\n",
              "      <td>#NSTTV Working with Pakatan Harapan (#PH) and ...</td>\n",
              "      <td>2</td>\n",
              "      <td>2</td>\n",
              "      <td>[]</td>\n",
              "      <td>['nsttv', 'ph', 'barisannasional', 'umno']</td>\n",
              "      <td>1</td>\n",
              "      <td>negative</td>\n",
              "    </tr>\n",
              "  </tbody>\n",
              "</table>\n",
              "</div>"
            ],
            "text/plain": [
              "         date      time                  name  \\\n",
              "0  2022-11-29  23:39:57                 WaWan   \n",
              "1  2022-11-29  22:33:07  M🔺l🔺y🔺 Tanahairku 🇲🇾   \n",
              "2  2022-11-29  20:50:34    RameshRaoAKS******   \n",
              "3  2022-11-29  19:28:40    RameshRaoAKS******   \n",
              "4  2022-11-29  18:59:19     New Straits Times   \n",
              "\n",
              "                                               tweet  likes_count  \\\n",
              "0  @fahmi_fadzil Kemon YB jgn jd sengal.. dulu ka...            0   \n",
              "1  I hope it’s not si ponorogo @presidenumnomy #z...            1   \n",
              "2  Kencing Dan puak Ularmark @DPPMalaysia @titm_o...           20   \n",
              "3  Jika Kamu Sering Dimainkan,\\nJika Kamu Sering ...            8   \n",
              "4  #NSTTV Working with Pakatan Harapan (#PH) and ...            2   \n",
              "\n",
              "   retweets_count                                           mentions  \\\n",
              "0               0                                   ['fahmi_fadzil']   \n",
              "1               0                                 ['presidenumnomy']   \n",
              "2               8  ['dppmalaysia', 'titm_official', 'abdulhadiawa...   \n",
              "3               3                    ['najibrazak', 'drzahidhamidi']   \n",
              "4               2                                                 []   \n",
              "\n",
              "                                            hashtags  replies_count prediction  \n",
              "0                          ['kerajaanpintubelakang']              0   negative  \n",
              "1  ['zahidhamidiletakjawatan', 'umno', 'barisanna...              0   negative  \n",
              "2  ['pakatanharapan', 'barisannasional', 'anwarib...              4   negative  \n",
              "3  ['anwaribrahim', 'anwaribrahimpm10', 'bossku',...              2   positive  \n",
              "4         ['nsttv', 'ph', 'barisannasional', 'umno']              1   negative  "
            ]
          },
          "execution_count": 15,
          "metadata": {},
          "output_type": "execute_result"
        }
      ],
      "source": [
        "df.head()"
      ]
    }
  ],
  "metadata": {
    "kernelspec": {
      "display_name": "Python 3 (ipykernel)",
      "language": "python",
      "name": "python3"
    },
    "language_info": {
      "codemirror_mode": {
        "name": "ipython",
        "version": 3
      },
      "file_extension": ".py",
      "mimetype": "text/x-python",
      "name": "python",
      "nbconvert_exporter": "python",
      "pygments_lexer": "ipython3",
      "version": "3.9.13"
    },
    "colab": {
      "provenance": []
    }
  },
  "nbformat": 4,
  "nbformat_minor": 5
}