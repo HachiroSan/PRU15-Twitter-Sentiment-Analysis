{
  "cells": [
    {
      "cell_type": "markdown",
      "id": "3fff7f71",
      "metadata": {
        "id": "3fff7f71"
      },
      "source": [
        "Get all paths of csv inside netizen data folder and store it as lists"
      ]
    },
    {
      "cell_type": "code",
      "execution_count": null,
      "id": "4e8b7e09",
      "metadata": {
        "id": "4e8b7e09"
      },
      "outputs": [],
      "source": [
        "import os\n",
        "\n",
        "def get_csv_paths(directory):\n",
        "    csv_paths = []\n",
        "    for root, dirs, files in os.walk(directory):\n",
        "        for file in files:\n",
        "            if file.endswith(\".csv\"):\n",
        "                csv_paths.append(os.path.join(root, file))\n",
        "    return csv_paths"
      ]
    },
    {
      "cell_type": "markdown",
      "id": "eb3a1b6a",
      "metadata": {
        "id": "eb3a1b6a"
      },
      "source": [
        "### Using Dask to merge all datas"
      ]
    },
    {
      "cell_type": "code",
      "execution_count": null,
      "id": "da0150f7",
      "metadata": {
        "id": "da0150f7",
        "outputId": "b83fa889-e936-4042-f45d-af049b5745d8"
      },
      "outputs": [
        {
          "name": "stderr",
          "output_type": "stream",
          "text": [
            "C:\\Users\\snapt\\anaconda3\\envs\\Tensorflow-GPU\\lib\\site-packages\\dask\\core.py:119: DtypeWarning: Columns (9) have mixed types. Specify dtype option on import or set low_memory=False.\n",
            "  return func(*(_execute_task(a, cache) for a in args))\n",
            "C:\\Users\\snapt\\anaconda3\\envs\\Tensorflow-GPU\\lib\\site-packages\\dask\\core.py:119: DtypeWarning: Columns (9) have mixed types. Specify dtype option on import or set low_memory=False.\n",
            "  return func(*(_execute_task(a, cache) for a in args))\n",
            "C:\\Users\\snapt\\anaconda3\\envs\\Tensorflow-GPU\\lib\\site-packages\\dask\\core.py:119: DtypeWarning: Columns (9) have mixed types. Specify dtype option on import or set low_memory=False.\n",
            "  return func(*(_execute_task(a, cache) for a in args))\n",
            "C:\\Users\\snapt\\anaconda3\\envs\\Tensorflow-GPU\\lib\\site-packages\\dask\\core.py:119: DtypeWarning: Columns (9) have mixed types. Specify dtype option on import or set low_memory=False.\n",
            "  return func(*(_execute_task(a, cache) for a in args))\n"
          ]
        },
        {
          "name": "stdout",
          "output_type": "stream",
          "text": [
            "CPU times: total: 11.4 s\n",
            "Wall time: 10.5 s\n"
          ]
        }
      ],
      "source": [
        "%%time\n",
        "from dask import delayed\n",
        "import pandas as pd\n",
        "\n",
        "# Get list of csv paths\n",
        "files = get_csv_paths(\"C:\\\\Users\\\\snapt\\\\Desktop\\\\UMP\\\\Machine Learning\\\\GROUP\\\\Twitter_PRU15\\\\Twitter_Netizen_Data_Nov_2022\")\n",
        "\n",
        "# read the first csv file\n",
        "df = delayed(pd.read_csv)(files[0])\n",
        "\n",
        "# concatenate the rest of the csv files\n",
        "for file in files[1:]:\n",
        "    df = delayed(pd.concat)([df, delayed(pd.read_csv)(file)], axis=0)\n",
        "\n",
        "# compute and write the final dataframe to a single csv file\n",
        "final_df = df.compute()\n",
        "final_df.to_csv(\"merged_data.csv\", index=False)"
      ]
    },
    {
      "cell_type": "code",
      "execution_count": null,
      "id": "b75fd4d5",
      "metadata": {
        "id": "b75fd4d5",
        "outputId": "78253546-edbe-417e-c217-c415e417bb93"
      },
      "outputs": [
        {
          "name": "stderr",
          "output_type": "stream",
          "text": [
            "C:\\Users\\snapt\\AppData\\Local\\Temp\\ipykernel_22232\\2973639440.py:1: DtypeWarning: Columns (10) have mixed types. Specify dtype option on import or set low_memory=False.\n",
            "  test = pd.read_csv(\"Netizen_Raw.csv\")\n"
          ]
        }
      ],
      "source": [
        "test = pd.read_csv(\"Netizen_Raw.csv\")"
      ]
    },
    {
      "cell_type": "code",
      "execution_count": null,
      "id": "6c715e7c",
      "metadata": {
        "id": "6c715e7c",
        "outputId": "0b7f4b02-8731-497a-fba7-3dff2ade2ada"
      },
      "outputs": [
        {
          "data": {
            "text/plain": [
              "(720330, 37)"
            ]
          },
          "execution_count": 14,
          "metadata": {},
          "output_type": "execute_result"
        }
      ],
      "source": [
        "test.shape"
      ]
    },
    {
      "cell_type": "code",
      "execution_count": null,
      "id": "2d040471",
      "metadata": {
        "id": "2d040471"
      },
      "outputs": [],
      "source": []
    }
  ],
  "metadata": {
    "kernelspec": {
      "display_name": "Python 3 (ipykernel)",
      "language": "python",
      "name": "python3"
    },
    "language_info": {
      "codemirror_mode": {
        "name": "ipython",
        "version": 3
      },
      "file_extension": ".py",
      "mimetype": "text/x-python",
      "name": "python",
      "nbconvert_exporter": "python",
      "pygments_lexer": "ipython3",
      "version": "3.9.13"
    },
    "colab": {
      "provenance": []
    }
  },
  "nbformat": 4,
  "nbformat_minor": 5
}