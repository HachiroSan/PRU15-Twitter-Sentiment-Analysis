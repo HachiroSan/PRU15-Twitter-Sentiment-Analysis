{
  "cells": [
    {
      "cell_type": "markdown",
      "id": "b8bac84f",
      "metadata": {
        "id": "b8bac84f"
      },
      "source": [
        "Preprocessing Data for Sentiment Analysis (Politician) <br>\n",
        "Prepared by Fad"
      ]
    },
    {
      "cell_type": "markdown",
      "id": "9d4955c1",
      "metadata": {
        "id": "9d4955c1"
      },
      "source": [
        "We will check if a GPU is available for us. We use TensorFlow GPU to achieve the fastest possible time when applying deep learning models, which is done by using a CUDA-enabled GPU, like RTX 3060 Ti in our case."
      ]
    },
    {
      "cell_type": "code",
      "execution_count": null,
      "id": "75b74af2",
      "metadata": {
        "id": "75b74af2",
        "outputId": "37c1187e-45c2-43a0-af34-2cc08ecc56ea"
      },
      "outputs": [
        {
          "data": {
            "text/plain": [
              "[name: \"/device:CPU:0\"\n",
              " device_type: \"CPU\"\n",
              " memory_limit: 268435456\n",
              " locality {\n",
              " }\n",
              " incarnation: 16093434038040944662\n",
              " xla_global_id: -1,\n",
              " name: \"/device:GPU:0\"\n",
              " device_type: \"GPU\"\n",
              " memory_limit: 5748293632\n",
              " locality {\n",
              "   bus_id: 1\n",
              "   links {\n",
              "   }\n",
              " }\n",
              " incarnation: 11222872952820174810\n",
              " physical_device_desc: \"device: 0, name: NVIDIA GeForce RTX 3060 Ti, pci bus id: 0000:09:00.0, compute capability: 8.6\"\n",
              " xla_global_id: 416903419]"
            ]
          },
          "execution_count": 1,
          "metadata": {},
          "output_type": "execute_result"
        }
      ],
      "source": [
        "import tensorflow as tf\n",
        "from tensorflow.python.client import device_lib\n",
        "\n",
        "tf.debugging.set_log_device_placement(True)\n",
        "device_lib.list_local_devices()"
      ]
    },
    {
      "cell_type": "code",
      "execution_count": null,
      "id": "63093941",
      "metadata": {
        "id": "63093941"
      },
      "outputs": [],
      "source": [
        "import pandas as pd\n",
        "\n",
        "df = pd.read_csv(\"Politician_Raw.csv\")"
      ]
    },
    {
      "cell_type": "code",
      "execution_count": null,
      "id": "a3e69e02",
      "metadata": {
        "id": "a3e69e02",
        "outputId": "e9569557-b61c-43c2-85a7-b7dc6f1ee962"
      },
      "outputs": [
        {
          "data": {
            "text/html": [
              "<div>\n",
              "<style scoped>\n",
              "    .dataframe tbody tr th:only-of-type {\n",
              "        vertical-align: middle;\n",
              "    }\n",
              "\n",
              "    .dataframe tbody tr th {\n",
              "        vertical-align: top;\n",
              "    }\n",
              "\n",
              "    .dataframe thead th {\n",
              "        text-align: right;\n",
              "    }\n",
              "</style>\n",
              "<table border=\"1\" class=\"dataframe\">\n",
              "  <thead>\n",
              "    <tr style=\"text-align: right;\">\n",
              "      <th></th>\n",
              "      <th>Unnamed: 0</th>\n",
              "      <th>id</th>\n",
              "      <th>conversation_id</th>\n",
              "      <th>created_at</th>\n",
              "      <th>date</th>\n",
              "      <th>time</th>\n",
              "      <th>timezone</th>\n",
              "      <th>user_id</th>\n",
              "      <th>username</th>\n",
              "      <th>name</th>\n",
              "      <th>...</th>\n",
              "      <th>user_rt_id</th>\n",
              "      <th>user_rt</th>\n",
              "      <th>retweet_id</th>\n",
              "      <th>reply_to</th>\n",
              "      <th>retweet_date</th>\n",
              "      <th>translate</th>\n",
              "      <th>trans_src</th>\n",
              "      <th>trans_dest</th>\n",
              "      <th>Name</th>\n",
              "      <th>Political Party</th>\n",
              "    </tr>\n",
              "  </thead>\n",
              "  <tbody>\n",
              "    <tr>\n",
              "      <th>0</th>\n",
              "      <td>0</td>\n",
              "      <td>1.596499e+18</td>\n",
              "      <td>1.596499e+18</td>\n",
              "      <td>2022-11-26 13:38:11 UTC</td>\n",
              "      <td>2022-11-26</td>\n",
              "      <td>13:38:11</td>\n",
              "      <td>0.0</td>\n",
              "      <td>29370069.0</td>\n",
              "      <td>lim_weijiet</td>\n",
              "      <td>Lim Wei Jiet</td>\n",
              "      <td>...</td>\n",
              "      <td>NaN</td>\n",
              "      <td>NaN</td>\n",
              "      <td>NaN</td>\n",
              "      <td>{'user_id': None, 'username': None}</td>\n",
              "      <td>NaN</td>\n",
              "      <td>NaN</td>\n",
              "      <td>NaN</td>\n",
              "      <td>NaN</td>\n",
              "      <td>NaN</td>\n",
              "      <td>NaN</td>\n",
              "    </tr>\n",
              "    <tr>\n",
              "      <th>1</th>\n",
              "      <td>1</td>\n",
              "      <td>1.595682e+18</td>\n",
              "      <td>1.595681e+18</td>\n",
              "      <td>2022-11-24 07:32:34 UTC</td>\n",
              "      <td>2022-11-24</td>\n",
              "      <td>07:32:34</td>\n",
              "      <td>0.0</td>\n",
              "      <td>29370069.0</td>\n",
              "      <td>lim_weijiet</td>\n",
              "      <td>Lim Wei Jiet</td>\n",
              "      <td>...</td>\n",
              "      <td>NaN</td>\n",
              "      <td>NaN</td>\n",
              "      <td>NaN</td>\n",
              "      <td>{'user_id': '29370069', 'username': 'lim_weiji...</td>\n",
              "      <td>NaN</td>\n",
              "      <td>NaN</td>\n",
              "      <td>NaN</td>\n",
              "      <td>NaN</td>\n",
              "      <td>NaN</td>\n",
              "      <td>NaN</td>\n",
              "    </tr>\n",
              "    <tr>\n",
              "      <th>2</th>\n",
              "      <td>2</td>\n",
              "      <td>1.595681e+18</td>\n",
              "      <td>1.595681e+18</td>\n",
              "      <td>2022-11-24 07:29:21 UTC</td>\n",
              "      <td>2022-11-24</td>\n",
              "      <td>07:29:21</td>\n",
              "      <td>0.0</td>\n",
              "      <td>29370069.0</td>\n",
              "      <td>lim_weijiet</td>\n",
              "      <td>Lim Wei Jiet</td>\n",
              "      <td>...</td>\n",
              "      <td>NaN</td>\n",
              "      <td>NaN</td>\n",
              "      <td>NaN</td>\n",
              "      <td>{'user_id': None, 'username': None}</td>\n",
              "      <td>NaN</td>\n",
              "      <td>NaN</td>\n",
              "      <td>NaN</td>\n",
              "      <td>NaN</td>\n",
              "      <td>NaN</td>\n",
              "      <td>NaN</td>\n",
              "    </tr>\n",
              "    <tr>\n",
              "      <th>3</th>\n",
              "      <td>3</td>\n",
              "      <td>1.595674e+18</td>\n",
              "      <td>1.595674e+18</td>\n",
              "      <td>2022-11-24 07:00:48 UTC</td>\n",
              "      <td>2022-11-24</td>\n",
              "      <td>07:00:48</td>\n",
              "      <td>0.0</td>\n",
              "      <td>29370069.0</td>\n",
              "      <td>lim_weijiet</td>\n",
              "      <td>Lim Wei Jiet</td>\n",
              "      <td>...</td>\n",
              "      <td>NaN</td>\n",
              "      <td>NaN</td>\n",
              "      <td>NaN</td>\n",
              "      <td>{'user_id': None, 'username': None}</td>\n",
              "      <td>NaN</td>\n",
              "      <td>NaN</td>\n",
              "      <td>NaN</td>\n",
              "      <td>NaN</td>\n",
              "      <td>NaN</td>\n",
              "      <td>NaN</td>\n",
              "    </tr>\n",
              "    <tr>\n",
              "      <th>4</th>\n",
              "      <td>4</td>\n",
              "      <td>1.595653e+18</td>\n",
              "      <td>1.595653e+18</td>\n",
              "      <td>2022-11-24 05:38:01 UTC</td>\n",
              "      <td>2022-11-24</td>\n",
              "      <td>05:38:01</td>\n",
              "      <td>0.0</td>\n",
              "      <td>29370069.0</td>\n",
              "      <td>lim_weijiet</td>\n",
              "      <td>Lim Wei Jiet</td>\n",
              "      <td>...</td>\n",
              "      <td>NaN</td>\n",
              "      <td>NaN</td>\n",
              "      <td>NaN</td>\n",
              "      <td>{'user_id': None, 'username': None}</td>\n",
              "      <td>NaN</td>\n",
              "      <td>NaN</td>\n",
              "      <td>NaN</td>\n",
              "      <td>NaN</td>\n",
              "      <td>NaN</td>\n",
              "      <td>NaN</td>\n",
              "    </tr>\n",
              "  </tbody>\n",
              "</table>\n",
              "<p>5 rows × 39 columns</p>\n",
              "</div>"
            ],
            "text/plain": [
              "   Unnamed: 0            id  conversation_id               created_at  \\\n",
              "0           0  1.596499e+18     1.596499e+18  2022-11-26 13:38:11 UTC   \n",
              "1           1  1.595682e+18     1.595681e+18  2022-11-24 07:32:34 UTC   \n",
              "2           2  1.595681e+18     1.595681e+18  2022-11-24 07:29:21 UTC   \n",
              "3           3  1.595674e+18     1.595674e+18  2022-11-24 07:00:48 UTC   \n",
              "4           4  1.595653e+18     1.595653e+18  2022-11-24 05:38:01 UTC   \n",
              "\n",
              "         date      time  timezone     user_id     username          name  ...  \\\n",
              "0  2022-11-26  13:38:11       0.0  29370069.0  lim_weijiet  Lim Wei Jiet  ...   \n",
              "1  2022-11-24  07:32:34       0.0  29370069.0  lim_weijiet  Lim Wei Jiet  ...   \n",
              "2  2022-11-24  07:29:21       0.0  29370069.0  lim_weijiet  Lim Wei Jiet  ...   \n",
              "3  2022-11-24  07:00:48       0.0  29370069.0  lim_weijiet  Lim Wei Jiet  ...   \n",
              "4  2022-11-24  05:38:01       0.0  29370069.0  lim_weijiet  Lim Wei Jiet  ...   \n",
              "\n",
              "   user_rt_id user_rt retweet_id  \\\n",
              "0         NaN     NaN        NaN   \n",
              "1         NaN     NaN        NaN   \n",
              "2         NaN     NaN        NaN   \n",
              "3         NaN     NaN        NaN   \n",
              "4         NaN     NaN        NaN   \n",
              "\n",
              "                                            reply_to retweet_date translate  \\\n",
              "0                {'user_id': None, 'username': None}          NaN       NaN   \n",
              "1  {'user_id': '29370069', 'username': 'lim_weiji...          NaN       NaN   \n",
              "2                {'user_id': None, 'username': None}          NaN       NaN   \n",
              "3                {'user_id': None, 'username': None}          NaN       NaN   \n",
              "4                {'user_id': None, 'username': None}          NaN       NaN   \n",
              "\n",
              "   trans_src  trans_dest  Name Political Party  \n",
              "0        NaN         NaN   NaN             NaN  \n",
              "1        NaN         NaN   NaN             NaN  \n",
              "2        NaN         NaN   NaN             NaN  \n",
              "3        NaN         NaN   NaN             NaN  \n",
              "4        NaN         NaN   NaN             NaN  \n",
              "\n",
              "[5 rows x 39 columns]"
            ]
          },
          "execution_count": 34,
          "metadata": {},
          "output_type": "execute_result"
        }
      ],
      "source": [
        "df.head()"
      ]
    },
    {
      "cell_type": "code",
      "execution_count": null,
      "id": "89779d98",
      "metadata": {
        "id": "89779d98",
        "outputId": "39614177-8318-4465-8516-681d1920b53b"
      },
      "outputs": [
        {
          "data": {
            "text/plain": [
              "Index(['Unnamed: 0', 'id', 'conversation_id', 'created_at', 'date', 'time',\n",
              "       'timezone', 'user_id', 'username', 'name', 'place', 'tweet', 'language',\n",
              "       'mentions', 'urls', 'photos', 'replies_count', 'retweets_count',\n",
              "       'likes_count', 'hashtags', 'cashtags', 'link', 'retweet', 'quote_url',\n",
              "       'video', 'thumbnail', 'near', 'geo', 'source', 'user_rt_id', 'user_rt',\n",
              "       'retweet_id', 'reply_to', 'retweet_date', 'translate', 'trans_src',\n",
              "       'trans_dest', 'Name', 'Political Party'],\n",
              "      dtype='object')"
            ]
          },
          "execution_count": 35,
          "metadata": {},
          "output_type": "execute_result"
        }
      ],
      "source": [
        "df.columns"
      ]
    },
    {
      "cell_type": "code",
      "execution_count": null,
      "id": "fc68fca9",
      "metadata": {
        "id": "fc68fca9"
      },
      "outputs": [],
      "source": [
        "# Get columns that are interesting\n",
        "df = df[['date', 'time', 'name', 'tweet', 'likes_count', 'retweets_count', 'mentions', 'hashtags', 'replies_count']]"
      ]
    },
    {
      "cell_type": "code",
      "execution_count": null,
      "id": "d4efb6ca",
      "metadata": {
        "id": "d4efb6ca",
        "outputId": "f6a4f233-b595-47fd-a90b-fb245af78467"
      },
      "outputs": [
        {
          "data": {
            "text/html": [
              "<div>\n",
              "<style scoped>\n",
              "    .dataframe tbody tr th:only-of-type {\n",
              "        vertical-align: middle;\n",
              "    }\n",
              "\n",
              "    .dataframe tbody tr th {\n",
              "        vertical-align: top;\n",
              "    }\n",
              "\n",
              "    .dataframe thead th {\n",
              "        text-align: right;\n",
              "    }\n",
              "</style>\n",
              "<table border=\"1\" class=\"dataframe\">\n",
              "  <thead>\n",
              "    <tr style=\"text-align: right;\">\n",
              "      <th></th>\n",
              "      <th>date</th>\n",
              "      <th>time</th>\n",
              "      <th>name</th>\n",
              "      <th>tweet</th>\n",
              "      <th>likes_count</th>\n",
              "      <th>retweets_count</th>\n",
              "      <th>mentions</th>\n",
              "      <th>hashtags</th>\n",
              "      <th>replies_count</th>\n",
              "    </tr>\n",
              "  </thead>\n",
              "  <tbody>\n",
              "    <tr>\n",
              "      <th>0</th>\n",
              "      <td>2022-11-26</td>\n",
              "      <td>13:38:11</td>\n",
              "      <td>Lim Wei Jiet</td>\n",
              "      <td>💯💯💯</td>\n",
              "      <td>23.0</td>\n",
              "      <td>1.0</td>\n",
              "      <td>[]</td>\n",
              "      <td>[]</td>\n",
              "      <td>0.0</td>\n",
              "    </tr>\n",
              "    <tr>\n",
              "      <th>1</th>\n",
              "      <td>2022-11-24</td>\n",
              "      <td>07:32:34</td>\n",
              "      <td>Lim Wei Jiet</td>\n",
              "      <td>Saya sentiasa mendoakan Dato' Seri dapat menge...</td>\n",
              "      <td>28.0</td>\n",
              "      <td>4.0</td>\n",
              "      <td>[]</td>\n",
              "      <td>[]</td>\n",
              "      <td>0.0</td>\n",
              "    </tr>\n",
              "    <tr>\n",
              "      <th>2</th>\n",
              "      <td>2022-11-24</td>\n",
              "      <td>07:29:21</td>\n",
              "      <td>Lim Wei Jiet</td>\n",
              "      <td>Tahniah Dato' Seri Anwar Ibrahim, Perdana Ment...</td>\n",
              "      <td>271.0</td>\n",
              "      <td>43.0</td>\n",
              "      <td>[]</td>\n",
              "      <td>[]</td>\n",
              "      <td>7.0</td>\n",
              "    </tr>\n",
              "    <tr>\n",
              "      <th>3</th>\n",
              "      <td>2022-11-24</td>\n",
              "      <td>07:00:48</td>\n",
              "      <td>Lim Wei Jiet</td>\n",
              "      <td>Malaysians, your vote absolutely mattered in G...</td>\n",
              "      <td>2268.0</td>\n",
              "      <td>758.0</td>\n",
              "      <td>[]</td>\n",
              "      <td>[]</td>\n",
              "      <td>19.0</td>\n",
              "    </tr>\n",
              "    <tr>\n",
              "      <th>4</th>\n",
              "      <td>2022-11-24</td>\n",
              "      <td>05:38:01</td>\n",
              "      <td>Lim Wei Jiet</td>\n",
              "      <td>Yes!</td>\n",
              "      <td>153.0</td>\n",
              "      <td>14.0</td>\n",
              "      <td>[]</td>\n",
              "      <td>[]</td>\n",
              "      <td>2.0</td>\n",
              "    </tr>\n",
              "  </tbody>\n",
              "</table>\n",
              "</div>"
            ],
            "text/plain": [
              "         date      time          name  \\\n",
              "0  2022-11-26  13:38:11  Lim Wei Jiet   \n",
              "1  2022-11-24  07:32:34  Lim Wei Jiet   \n",
              "2  2022-11-24  07:29:21  Lim Wei Jiet   \n",
              "3  2022-11-24  07:00:48  Lim Wei Jiet   \n",
              "4  2022-11-24  05:38:01  Lim Wei Jiet   \n",
              "\n",
              "                                               tweet  likes_count  \\\n",
              "0                                                💯💯💯         23.0   \n",
              "1  Saya sentiasa mendoakan Dato' Seri dapat menge...         28.0   \n",
              "2  Tahniah Dato' Seri Anwar Ibrahim, Perdana Ment...        271.0   \n",
              "3  Malaysians, your vote absolutely mattered in G...       2268.0   \n",
              "4                                               Yes!        153.0   \n",
              "\n",
              "   retweets_count mentions hashtags  replies_count  \n",
              "0             1.0       []       []            0.0  \n",
              "1             4.0       []       []            0.0  \n",
              "2            43.0       []       []            7.0  \n",
              "3           758.0       []       []           19.0  \n",
              "4            14.0       []       []            2.0  "
            ]
          },
          "execution_count": 37,
          "metadata": {},
          "output_type": "execute_result"
        }
      ],
      "source": [
        "df.head()"
      ]
    },
    {
      "cell_type": "markdown",
      "id": "cd419109",
      "metadata": {
        "id": "cd419109"
      },
      "source": [
        "#### Check for NaN/Null Values"
      ]
    },
    {
      "cell_type": "code",
      "execution_count": null,
      "id": "cc01cf70",
      "metadata": {
        "id": "cc01cf70",
        "outputId": "e5a5e68c-b73f-4d79-f208-062abd4ac43e"
      },
      "outputs": [
        {
          "data": {
            "text/plain": [
              "date              33\n",
              "time              33\n",
              "name              33\n",
              "tweet             33\n",
              "likes_count       33\n",
              "retweets_count    33\n",
              "mentions          33\n",
              "hashtags          33\n",
              "replies_count     33\n",
              "dtype: int64"
            ]
          },
          "execution_count": 38,
          "metadata": {},
          "output_type": "execute_result"
        }
      ],
      "source": [
        "df.isna().sum()"
      ]
    },
    {
      "cell_type": "code",
      "execution_count": null,
      "id": "588ec4f4",
      "metadata": {
        "id": "588ec4f4",
        "outputId": "5e782ccb-393e-4287-dc5f-f1035b3e9e9b"
      },
      "outputs": [
        {
          "data": {
            "text/plain": [
              "date              0\n",
              "time              0\n",
              "name              0\n",
              "tweet             0\n",
              "likes_count       0\n",
              "retweets_count    0\n",
              "mentions          0\n",
              "hashtags          0\n",
              "replies_count     0\n",
              "dtype: int64"
            ]
          },
          "execution_count": 39,
          "metadata": {},
          "output_type": "execute_result"
        }
      ],
      "source": [
        "# Drop rows that contain NaN in the 'tweet' column\n",
        "df = df.dropna()\n",
        "\n",
        "df.isna().sum()"
      ]
    },
    {
      "cell_type": "code",
      "execution_count": null,
      "id": "4313bdc1",
      "metadata": {
        "id": "4313bdc1",
        "outputId": "942e4802-33ee-44f2-cc37-ef186bf54489"
      },
      "outputs": [
        {
          "data": {
            "text/plain": [
              "(5684, 9)"
            ]
          },
          "execution_count": 40,
          "metadata": {},
          "output_type": "execute_result"
        }
      ],
      "source": [
        "df.shape"
      ]
    },
    {
      "cell_type": "markdown",
      "id": "0841e05d",
      "metadata": {
        "id": "0841e05d"
      },
      "source": [
        "### NLP Preprocessing"
      ]
    },
    {
      "cell_type": "markdown",
      "id": "df17d5d9",
      "metadata": {
        "id": "df17d5d9"
      },
      "source": [
        "We know that social media texts from Twitter is very noisy and we want to clean as much as possible to make our machines understand the structure of sentence much better. Using Malaya, we can standardize our text preprocessing,\n",
        "\n",
        "Things Malaya can do\n",
        "- Replace special words into tokens to reduce dimension curse. rm10k become <money>.\n",
        "\n",
        "- Put tags for special words, #drmahathir become <hashtag> drmahathir </hashtag>.\n",
        "\n",
        "- Expand english contractions.\n",
        "\n",
        "- Expand hashtags, #drmahathir become dr mahathir, required a segmentation callable.\n",
        "\n",
        "- Put emoji tags if provide demoji object.\n",
        "    \n",
        "Things it can't do\n",
        "     \n",
        "- Non-Malay translation (Needed)\n",
        "- Punctuations removal\n",
        "- Tatabahasa fix"
      ]
    },
    {
      "cell_type": "markdown",
      "id": "c8a64bff",
      "metadata": {
        "id": "c8a64bff"
      },
      "source": [
        "#### Translation Issue"
      ]
    },
    {
      "cell_type": "markdown",
      "id": "994a0687",
      "metadata": {
        "id": "994a0687"
      },
      "source": [
        "Malaya does provide a translation API to detect foreign languages, but it doesn't work in our setup due to a platform issue and it also doesn't support a wide range of languages. Since our data only has 7k rows, we can just use google sheet to perform the translation."
      ]
    },
    {
      "cell_type": "markdown",
      "id": "55a974d7",
      "metadata": {
        "id": "55a974d7"
      },
      "source": [
        "We upload our data into google sheet. Create a new column called 'tweet_translated' and apply translation function. Works like a charm!"
      ]
    },
    {
      "cell_type": "markdown",
      "id": "1ea8aa11",
      "metadata": {
        "id": "1ea8aa11"
      },
      "source": [
        "![google sheet](https://raw.githubusercontent.com/Muhd-Farhad/PRU15-Twitter-Sentiment-Analysis/main/img/google-sheet.png)"
      ]
    },
    {
      "cell_type": "code",
      "execution_count": null,
      "id": "cf275851",
      "metadata": {
        "id": "cf275851"
      },
      "outputs": [],
      "source": [
        "# Export our data to feed into google sheet\n",
        "df.to_csv(\"politician_raw.xlsx\")"
      ]
    },
    {
      "cell_type": "markdown",
      "id": "b0a0cee1",
      "metadata": {
        "id": "b0a0cee1"
      },
      "source": [
        "Read our new dataframe that have our translated tweets."
      ]
    },
    {
      "cell_type": "code",
      "execution_count": null,
      "id": "a99f1b38",
      "metadata": {
        "id": "a99f1b38"
      },
      "outputs": [],
      "source": [
        "# Read our translated tweet\n",
        "new_df = pd.read_excel('politician_translated.xlsx')"
      ]
    },
    {
      "cell_type": "code",
      "execution_count": null,
      "id": "0c8e3e9c",
      "metadata": {
        "id": "0c8e3e9c",
        "outputId": "85e2b1cc-083d-4216-e4d9-a183eb9b5d99"
      },
      "outputs": [
        {
          "data": {
            "text/html": [
              "<div>\n",
              "<style scoped>\n",
              "    .dataframe tbody tr th:only-of-type {\n",
              "        vertical-align: middle;\n",
              "    }\n",
              "\n",
              "    .dataframe tbody tr th {\n",
              "        vertical-align: top;\n",
              "    }\n",
              "\n",
              "    .dataframe thead th {\n",
              "        text-align: right;\n",
              "    }\n",
              "</style>\n",
              "<table border=\"1\" class=\"dataframe\">\n",
              "  <thead>\n",
              "    <tr style=\"text-align: right;\">\n",
              "      <th></th>\n",
              "      <th>Unnamed: 0</th>\n",
              "      <th>date</th>\n",
              "      <th>time</th>\n",
              "      <th>name</th>\n",
              "      <th>tweet</th>\n",
              "      <th>tweet_translated</th>\n",
              "      <th>likes_count</th>\n",
              "      <th>retweets_count</th>\n",
              "      <th>mentions</th>\n",
              "      <th>hashtags</th>\n",
              "      <th>replies_count</th>\n",
              "    </tr>\n",
              "  </thead>\n",
              "  <tbody>\n",
              "    <tr>\n",
              "      <th>5679</th>\n",
              "      <td>5712</td>\n",
              "      <td>2022-11-01</td>\n",
              "      <td>23:53:52</td>\n",
              "      <td>Hannah Yeoh</td>\n",
              "      <td>Macam mana poster boy BN Ismail Sabri boleh di...</td>\n",
              "      <td>Macam mana poster boy BN Ismail Sabri boleh di...</td>\n",
              "      <td>953</td>\n",
              "      <td>326</td>\n",
              "      <td>[]</td>\n",
              "      <td>['posterboytakadakuasa']</td>\n",
              "      <td>204</td>\n",
              "    </tr>\n",
              "    <tr>\n",
              "      <th>5680</th>\n",
              "      <td>5713</td>\n",
              "      <td>2022-11-01</td>\n",
              "      <td>16:26:01</td>\n",
              "      <td>Hannah Yeoh</td>\n",
              "      <td>Zahid</td>\n",
              "      <td>Zahid</td>\n",
              "      <td>102</td>\n",
              "      <td>10</td>\n",
              "      <td>[]</td>\n",
              "      <td>[]</td>\n",
              "      <td>8</td>\n",
              "    </tr>\n",
              "    <tr>\n",
              "      <th>5681</th>\n",
              "      <td>5714</td>\n",
              "      <td>2022-11-01</td>\n",
              "      <td>11:55:01</td>\n",
              "      <td>Hannah Yeoh</td>\n",
              "      <td>Mat Sabu Jr 👏👏</td>\n",
              "      <td>Mat Sabu Jr 👏👏</td>\n",
              "      <td>248</td>\n",
              "      <td>28</td>\n",
              "      <td>[]</td>\n",
              "      <td>[]</td>\n",
              "      <td>11</td>\n",
              "    </tr>\n",
              "    <tr>\n",
              "      <th>5682</th>\n",
              "      <td>5715</td>\n",
              "      <td>2022-11-01</td>\n",
              "      <td>00:25:26</td>\n",
              "      <td>Hannah Yeoh</td>\n",
              "      <td>Pengundi Pahang di KL dan Selangor, kami memer...</td>\n",
              "      <td>Pengundi Pahang di KL dan Selangor, kami memer...</td>\n",
              "      <td>72</td>\n",
              "      <td>35</td>\n",
              "      <td>[]</td>\n",
              "      <td>[]</td>\n",
              "      <td>5</td>\n",
              "    </tr>\n",
              "    <tr>\n",
              "      <th>5683</th>\n",
              "      <td>5716</td>\n",
              "      <td>2022-11-01</td>\n",
              "      <td>00:18:32</td>\n",
              "      <td>Hannah Yeoh</td>\n",
              "      <td>Semasa PKP dahulu, Menteri PAS ini tak ikut SO...</td>\n",
              "      <td>Semasa PKP dahulu, Menteri PAS ini tak ikut SO...</td>\n",
              "      <td>232</td>\n",
              "      <td>101</td>\n",
              "      <td>[]</td>\n",
              "      <td>[]</td>\n",
              "      <td>31</td>\n",
              "    </tr>\n",
              "  </tbody>\n",
              "</table>\n",
              "</div>"
            ],
            "text/plain": [
              "      Unnamed: 0       date      time         name  \\\n",
              "5679        5712 2022-11-01  23:53:52  Hannah Yeoh   \n",
              "5680        5713 2022-11-01  16:26:01  Hannah Yeoh   \n",
              "5681        5714 2022-11-01  11:55:01  Hannah Yeoh   \n",
              "5682        5715 2022-11-01  00:25:26  Hannah Yeoh   \n",
              "5683        5716 2022-11-01  00:18:32  Hannah Yeoh   \n",
              "\n",
              "                                                  tweet  \\\n",
              "5679  Macam mana poster boy BN Ismail Sabri boleh di...   \n",
              "5680                                              Zahid   \n",
              "5681                                     Mat Sabu Jr 👏👏   \n",
              "5682  Pengundi Pahang di KL dan Selangor, kami memer...   \n",
              "5683  Semasa PKP dahulu, Menteri PAS ini tak ikut SO...   \n",
              "\n",
              "                                       tweet_translated  likes_count  \\\n",
              "5679  Macam mana poster boy BN Ismail Sabri boleh di...          953   \n",
              "5680                                              Zahid          102   \n",
              "5681                                     Mat Sabu Jr 👏👏          248   \n",
              "5682  Pengundi Pahang di KL dan Selangor, kami memer...           72   \n",
              "5683  Semasa PKP dahulu, Menteri PAS ini tak ikut SO...          232   \n",
              "\n",
              "      retweets_count mentions                  hashtags  replies_count  \n",
              "5679             326       []  ['posterboytakadakuasa']            204  \n",
              "5680              10       []                        []              8  \n",
              "5681              28       []                        []             11  \n",
              "5682              35       []                        []              5  \n",
              "5683             101       []                        []             31  "
            ]
          },
          "execution_count": 45,
          "metadata": {},
          "output_type": "execute_result"
        }
      ],
      "source": [
        "# check to make sure the total row is the same as our original df\n",
        "new_df.tail()"
      ]
    },
    {
      "cell_type": "code",
      "execution_count": null,
      "id": "c62fa50c",
      "metadata": {
        "id": "c62fa50c"
      },
      "outputs": [],
      "source": [
        "new_df = new_df.drop('Unnamed: 0', axis=1)"
      ]
    },
    {
      "cell_type": "markdown",
      "id": "0d4a6093",
      "metadata": {
        "id": "0d4a6093"
      },
      "source": [
        "Now we perform normal preprocessing on our translated text."
      ]
    },
    {
      "cell_type": "code",
      "execution_count": null,
      "id": "98738512",
      "metadata": {
        "id": "98738512"
      },
      "outputs": [],
      "source": [
        "import malaya\n",
        "\n",
        "# Load segmenter\n",
        "segmenter = malaya.segmentation.transformer(model = 'small', quantized = False)\n",
        "\n",
        "# Create segmention function\n",
        "segmenter_func = lambda x: segmenter.greedy_decoder([x])[0]\n",
        "\n",
        "# Load preprocessing instance and use segmenter\n",
        "preprocessing = malaya.preprocessing.preprocessing(segmenter = segmenter_func, annotate = [])"
      ]
    },
    {
      "cell_type": "markdown",
      "id": "78e5e25f",
      "metadata": {
        "id": "78e5e25f"
      },
      "source": [
        "#### What is segmenter?\n",
        "\n",
        "Common problem for social media texts, there are missing spaces in the text, so text segmentation can help us fix the space as such\n",
        "\n",
        "- huseinsukamakan ayam,dia sgtrisaukan -> husein suka makan ayam, dia sgt risaukan. <br> <br>\n",
        "\n",
        "- drmahathir sangat menekankan budaya budakzamansekarang -> dr mahathir sangat menekankan budaya budak zaman sekarang.<br><br>\n",
        "\n",
        "- ceritatunnajibrazak -> cerita tun najib razak.<br><br>\n",
        "\n",
        "- TunM sukakan -> Tun M sukakan.<br><br>"
      ]
    },
    {
      "cell_type": "code",
      "execution_count": null,
      "id": "28bf5fda",
      "metadata": {
        "id": "28bf5fda"
      },
      "outputs": [],
      "source": [
        "# Create function to apply on dataframe\n",
        "def preprocess_string(string):\n",
        "    return ' '.join(preprocessing.process(string))"
      ]
    },
    {
      "cell_type": "code",
      "execution_count": null,
      "id": "108ec44b",
      "metadata": {
        "id": "108ec44b",
        "outputId": "ab2fbdd1-78a1-4b6e-98b3-7594095a86da"
      },
      "outputs": [
        {
          "name": "stdout",
          "output_type": "stream",
          "text": [
            "CPU times: total: 3min 22s\n",
            "Wall time: 2min 25s\n"
          ]
        }
      ],
      "source": [
        "%%time\n",
        "new_df['tweet_processed'] = new_df['tweet_translated'].apply(preprocess_string)"
      ]
    },
    {
      "cell_type": "markdown",
      "id": "e36b65d3",
      "metadata": {
        "id": "e36b65d3"
      },
      "source": [
        "### Load our Malaya sentiment model"
      ]
    },
    {
      "cell_type": "code",
      "execution_count": null,
      "id": "b5d87253",
      "metadata": {
        "id": "b5d87253",
        "outputId": "cace9663-ac2f-4148-dae3-69db27882820"
      },
      "outputs": [
        {
          "data": {
            "text/html": [
              "<div>\n",
              "<style scoped>\n",
              "    .dataframe tbody tr th:only-of-type {\n",
              "        vertical-align: middle;\n",
              "    }\n",
              "\n",
              "    .dataframe tbody tr th {\n",
              "        vertical-align: top;\n",
              "    }\n",
              "\n",
              "    .dataframe thead th {\n",
              "        text-align: right;\n",
              "    }\n",
              "</style>\n",
              "<table border=\"1\" class=\"dataframe\">\n",
              "  <thead>\n",
              "    <tr style=\"text-align: right;\">\n",
              "      <th></th>\n",
              "      <th>Size (MB)</th>\n",
              "      <th>Quantized Size (MB)</th>\n",
              "      <th>macro precision</th>\n",
              "      <th>macro recall</th>\n",
              "      <th>macro f1-score</th>\n",
              "    </tr>\n",
              "  </thead>\n",
              "  <tbody>\n",
              "    <tr>\n",
              "      <th>bert</th>\n",
              "      <td>425.6</td>\n",
              "      <td>111.00</td>\n",
              "      <td>0.93182</td>\n",
              "      <td>0.93442</td>\n",
              "      <td>0.93307</td>\n",
              "    </tr>\n",
              "    <tr>\n",
              "      <th>tiny-bert</th>\n",
              "      <td>57.4</td>\n",
              "      <td>15.40</td>\n",
              "      <td>0.93390</td>\n",
              "      <td>0.93141</td>\n",
              "      <td>0.93262</td>\n",
              "    </tr>\n",
              "    <tr>\n",
              "      <th>albert</th>\n",
              "      <td>48.6</td>\n",
              "      <td>12.80</td>\n",
              "      <td>0.91228</td>\n",
              "      <td>0.91929</td>\n",
              "      <td>0.91540</td>\n",
              "    </tr>\n",
              "    <tr>\n",
              "      <th>tiny-albert</th>\n",
              "      <td>22.4</td>\n",
              "      <td>5.98</td>\n",
              "      <td>0.91442</td>\n",
              "      <td>0.91646</td>\n",
              "      <td>0.91521</td>\n",
              "    </tr>\n",
              "    <tr>\n",
              "      <th>xlnet</th>\n",
              "      <td>446.6</td>\n",
              "      <td>118.00</td>\n",
              "      <td>0.92390</td>\n",
              "      <td>0.92629</td>\n",
              "      <td>0.92444</td>\n",
              "    </tr>\n",
              "    <tr>\n",
              "      <th>alxlnet</th>\n",
              "      <td>46.8</td>\n",
              "      <td>13.30</td>\n",
              "      <td>0.91896</td>\n",
              "      <td>0.92589</td>\n",
              "      <td>0.92198</td>\n",
              "    </tr>\n",
              "  </tbody>\n",
              "</table>\n",
              "</div>"
            ],
            "text/plain": [
              "             Size (MB)  Quantized Size (MB)  macro precision  macro recall  \\\n",
              "bert             425.6               111.00          0.93182       0.93442   \n",
              "tiny-bert         57.4                15.40          0.93390       0.93141   \n",
              "albert            48.6                12.80          0.91228       0.91929   \n",
              "tiny-albert       22.4                 5.98          0.91442       0.91646   \n",
              "xlnet            446.6               118.00          0.92390       0.92629   \n",
              "alxlnet           46.8                13.30          0.91896       0.92589   \n",
              "\n",
              "             macro f1-score  \n",
              "bert                0.93307  \n",
              "tiny-bert           0.93262  \n",
              "albert              0.91540  \n",
              "tiny-albert         0.91521  \n",
              "xlnet               0.92444  \n",
              "alxlnet             0.92198  "
            ]
          },
          "execution_count": 65,
          "metadata": {},
          "output_type": "execute_result"
        }
      ],
      "source": [
        "\n",
        "# view available transformer\n",
        "malaya.sentiment.available_transformer()"
      ]
    },
    {
      "cell_type": "markdown",
      "id": "3e757408",
      "metadata": {
        "id": "3e757408"
      },
      "source": [
        "We use BERT because it offers the highest accuracy. If you prefer a smaller size with slightly lower accuracy, we also have Tiny-BERT as an option."
      ]
    },
    {
      "cell_type": "code",
      "execution_count": null,
      "id": "bba1943b",
      "metadata": {
        "id": "bba1943b"
      },
      "outputs": [],
      "source": [
        "model = malaya.sentiment.transformer(model = 'bert', quantized = False)"
      ]
    },
    {
      "cell_type": "code",
      "execution_count": null,
      "id": "073f5244",
      "metadata": {
        "id": "073f5244"
      },
      "outputs": [],
      "source": [
        "# Create function for prediction\n",
        "def predict_tweet(string):\n",
        "    return model.predict([string])[0]"
      ]
    },
    {
      "cell_type": "code",
      "execution_count": null,
      "id": "0e67804f",
      "metadata": {
        "id": "0e67804f",
        "outputId": "f8227d72-a9a3-401e-c4a3-6584988fd939"
      },
      "outputs": [
        {
          "name": "stdout",
          "output_type": "stream",
          "text": [
            "CPU times: total: 1min 18s\n",
            "Wall time: 1min 14s\n"
          ]
        }
      ],
      "source": [
        "%%time\n",
        "\n",
        "# Apply the function to the 'tweet_processed' column and store the results in a new column 'prediction'\n",
        "new_df['prediction'] = new_df['tweet_processed'].apply(predict_tweet)"
      ]
    },
    {
      "cell_type": "code",
      "execution_count": null,
      "id": "8692ad16",
      "metadata": {
        "id": "8692ad16",
        "outputId": "cc9dfa61-493e-469d-d2b4-e124e5969590"
      },
      "outputs": [
        {
          "data": {
            "text/html": [
              "<div>\n",
              "<style scoped>\n",
              "    .dataframe tbody tr th:only-of-type {\n",
              "        vertical-align: middle;\n",
              "    }\n",
              "\n",
              "    .dataframe tbody tr th {\n",
              "        vertical-align: top;\n",
              "    }\n",
              "\n",
              "    .dataframe thead th {\n",
              "        text-align: right;\n",
              "    }\n",
              "</style>\n",
              "<table border=\"1\" class=\"dataframe\">\n",
              "  <thead>\n",
              "    <tr style=\"text-align: right;\">\n",
              "      <th></th>\n",
              "      <th>date</th>\n",
              "      <th>time</th>\n",
              "      <th>name</th>\n",
              "      <th>tweet</th>\n",
              "      <th>likes_count</th>\n",
              "      <th>retweets_count</th>\n",
              "      <th>mentions</th>\n",
              "      <th>hashtags</th>\n",
              "      <th>replies_count</th>\n",
              "      <th>prediction</th>\n",
              "    </tr>\n",
              "  </thead>\n",
              "  <tbody>\n",
              "    <tr>\n",
              "      <th>0</th>\n",
              "      <td>2022-11-26</td>\n",
              "      <td>13:38:11</td>\n",
              "      <td>Lim Wei Jiet</td>\n",
              "      <td>💯💯💯</td>\n",
              "      <td>23</td>\n",
              "      <td>1</td>\n",
              "      <td>[]</td>\n",
              "      <td>[]</td>\n",
              "      <td>0</td>\n",
              "      <td>neutral</td>\n",
              "    </tr>\n",
              "    <tr>\n",
              "      <th>1</th>\n",
              "      <td>2022-11-24</td>\n",
              "      <td>07:32:34</td>\n",
              "      <td>Lim Wei Jiet</td>\n",
              "      <td>Saya sentiasa mendoakan Dato' Seri dapat menge...</td>\n",
              "      <td>28</td>\n",
              "      <td>4</td>\n",
              "      <td>[]</td>\n",
              "      <td>[]</td>\n",
              "      <td>0</td>\n",
              "      <td>positive</td>\n",
              "    </tr>\n",
              "    <tr>\n",
              "      <th>2</th>\n",
              "      <td>2022-11-24</td>\n",
              "      <td>07:29:21</td>\n",
              "      <td>Lim Wei Jiet</td>\n",
              "      <td>Tahniah Dato' Seri Anwar Ibrahim, Perdana Ment...</td>\n",
              "      <td>271</td>\n",
              "      <td>43</td>\n",
              "      <td>[]</td>\n",
              "      <td>[]</td>\n",
              "      <td>7</td>\n",
              "      <td>positive</td>\n",
              "    </tr>\n",
              "    <tr>\n",
              "      <th>3</th>\n",
              "      <td>2022-11-24</td>\n",
              "      <td>07:00:48</td>\n",
              "      <td>Lim Wei Jiet</td>\n",
              "      <td>Malaysians, your vote absolutely mattered in G...</td>\n",
              "      <td>2268</td>\n",
              "      <td>758</td>\n",
              "      <td>[]</td>\n",
              "      <td>[]</td>\n",
              "      <td>19</td>\n",
              "      <td>positive</td>\n",
              "    </tr>\n",
              "    <tr>\n",
              "      <th>4</th>\n",
              "      <td>2022-11-24</td>\n",
              "      <td>05:38:01</td>\n",
              "      <td>Lim Wei Jiet</td>\n",
              "      <td>Yes!</td>\n",
              "      <td>153</td>\n",
              "      <td>14</td>\n",
              "      <td>[]</td>\n",
              "      <td>[]</td>\n",
              "      <td>2</td>\n",
              "      <td>neutral</td>\n",
              "    </tr>\n",
              "    <tr>\n",
              "      <th>5</th>\n",
              "      <td>2022-11-19</td>\n",
              "      <td>15:13:11</td>\n",
              "      <td>Lim Wei Jiet</td>\n",
              "      <td>Unfortunately, we did not manage to win Tanjun...</td>\n",
              "      <td>5668</td>\n",
              "      <td>803</td>\n",
              "      <td>[]</td>\n",
              "      <td>[]</td>\n",
              "      <td>208</td>\n",
              "      <td>positive</td>\n",
              "    </tr>\n",
              "    <tr>\n",
              "      <th>6</th>\n",
              "      <td>2022-11-19</td>\n",
              "      <td>09:19:30</td>\n",
              "      <td>Lim Wei Jiet</td>\n",
              "      <td>One more hour!\\n\\nYour vote will make a differ...</td>\n",
              "      <td>277</td>\n",
              "      <td>63</td>\n",
              "      <td>[]</td>\n",
              "      <td>[]</td>\n",
              "      <td>2</td>\n",
              "      <td>positive</td>\n",
              "    </tr>\n",
              "    <tr>\n",
              "      <th>7</th>\n",
              "      <td>2022-11-19</td>\n",
              "      <td>07:59:24</td>\n",
              "      <td>Lim Wei Jiet</td>\n",
              "      <td>Semangat gila pak guard di SJK(C) Bin Chong. h...</td>\n",
              "      <td>83</td>\n",
              "      <td>7</td>\n",
              "      <td>[]</td>\n",
              "      <td>[]</td>\n",
              "      <td>1</td>\n",
              "      <td>neutral</td>\n",
              "    </tr>\n",
              "    <tr>\n",
              "      <th>8</th>\n",
              "      <td>2022-11-19</td>\n",
              "      <td>07:51:38</td>\n",
              "      <td>Lim Wei Jiet</td>\n",
              "      <td>https://t.co/ApdMlQHPD6</td>\n",
              "      <td>17</td>\n",
              "      <td>0</td>\n",
              "      <td>[]</td>\n",
              "      <td>[]</td>\n",
              "      <td>0</td>\n",
              "      <td>neutral</td>\n",
              "    </tr>\n",
              "    <tr>\n",
              "      <th>9</th>\n",
              "      <td>2022-11-19</td>\n",
              "      <td>06:24:36</td>\n",
              "      <td>Lim Wei Jiet</td>\n",
              "      <td>Melawat pusat-pusat mengundi di sekitar Pekan ...</td>\n",
              "      <td>56</td>\n",
              "      <td>4</td>\n",
              "      <td>[]</td>\n",
              "      <td>[]</td>\n",
              "      <td>2</td>\n",
              "      <td>positive</td>\n",
              "    </tr>\n",
              "  </tbody>\n",
              "</table>\n",
              "</div>"
            ],
            "text/plain": [
              "        date      time          name  \\\n",
              "0 2022-11-26  13:38:11  Lim Wei Jiet   \n",
              "1 2022-11-24  07:32:34  Lim Wei Jiet   \n",
              "2 2022-11-24  07:29:21  Lim Wei Jiet   \n",
              "3 2022-11-24  07:00:48  Lim Wei Jiet   \n",
              "4 2022-11-24  05:38:01  Lim Wei Jiet   \n",
              "5 2022-11-19  15:13:11  Lim Wei Jiet   \n",
              "6 2022-11-19  09:19:30  Lim Wei Jiet   \n",
              "7 2022-11-19  07:59:24  Lim Wei Jiet   \n",
              "8 2022-11-19  07:51:38  Lim Wei Jiet   \n",
              "9 2022-11-19  06:24:36  Lim Wei Jiet   \n",
              "\n",
              "                                               tweet  likes_count  \\\n",
              "0                                                💯💯💯           23   \n",
              "1  Saya sentiasa mendoakan Dato' Seri dapat menge...           28   \n",
              "2  Tahniah Dato' Seri Anwar Ibrahim, Perdana Ment...          271   \n",
              "3  Malaysians, your vote absolutely mattered in G...         2268   \n",
              "4                                               Yes!          153   \n",
              "5  Unfortunately, we did not manage to win Tanjun...         5668   \n",
              "6  One more hour!\\n\\nYour vote will make a differ...          277   \n",
              "7  Semangat gila pak guard di SJK(C) Bin Chong. h...           83   \n",
              "8                            https://t.co/ApdMlQHPD6           17   \n",
              "9  Melawat pusat-pusat mengundi di sekitar Pekan ...           56   \n",
              "\n",
              "   retweets_count mentions hashtags  replies_count prediction  \n",
              "0               1       []       []              0    neutral  \n",
              "1               4       []       []              0   positive  \n",
              "2              43       []       []              7   positive  \n",
              "3             758       []       []             19   positive  \n",
              "4              14       []       []              2    neutral  \n",
              "5             803       []       []            208   positive  \n",
              "6              63       []       []              2   positive  \n",
              "7               7       []       []              1    neutral  \n",
              "8               0       []       []              0    neutral  \n",
              "9               4       []       []              2   positive  "
            ]
          },
          "execution_count": 85,
          "metadata": {},
          "output_type": "execute_result"
        }
      ],
      "source": [
        "new_df.head(10)"
      ]
    },
    {
      "cell_type": "markdown",
      "id": "b5214376",
      "metadata": {
        "id": "b5214376"
      },
      "source": [
        "Sort our columns and remove unnecessary columns"
      ]
    },
    {
      "cell_type": "code",
      "execution_count": null,
      "id": "9603323f",
      "metadata": {
        "id": "9603323f"
      },
      "outputs": [],
      "source": [
        "new_df = new_df.reindex(columns=['date','time','name','tweet','likes_count','retweets_count','mentions','hashtags','replies_count','prediction'])"
      ]
    },
    {
      "cell_type": "markdown",
      "id": "00f5ffd2",
      "metadata": {
        "id": "00f5ffd2"
      },
      "source": [
        "Export our clean data"
      ]
    },
    {
      "cell_type": "code",
      "execution_count": null,
      "id": "55b923bf",
      "metadata": {
        "id": "55b923bf"
      },
      "outputs": [],
      "source": [
        "# Specify utf-8-sig encoding to preserve emoji\n",
        "new_df.to_csv('Politicians_Labeled.csv', index=False, encoding='utf-8-sig')\n",
        "# Export in excel worksheet\n",
        "new_df.to_excel('Politicians_Labeled.xlsx')"
      ]
    }
  ],
  "metadata": {
    "kernelspec": {
      "display_name": "Python 3 (ipykernel)",
      "language": "python",
      "name": "python3"
    },
    "language_info": {
      "codemirror_mode": {
        "name": "ipython",
        "version": 3
      },
      "file_extension": ".py",
      "mimetype": "text/x-python",
      "name": "python",
      "nbconvert_exporter": "python",
      "pygments_lexer": "ipython3",
      "version": "3.9.13"
    },
    "colab": {
      "provenance": []
    }
  },
  "nbformat": 4,
  "nbformat_minor": 5
}